{
  "nbformat": 4,
  "nbformat_minor": 0,
  "metadata": {
    "colab": {
      "provenance": [],
      "collapsed_sections": [],
      "mount_file_id": "1-p5DYgBScKWSfUHtL_2yvksA3FZwzj23",
      "authorship_tag": "ABX9TyOy7LVo/+79Nb7+Su5DJAhw",
      "include_colab_link": true
    },
    "kernelspec": {
      "name": "python3",
      "display_name": "Python 3"
    },
    "language_info": {
      "name": "python"
    }
  },
  "cells": [
    {
      "cell_type": "markdown",
      "metadata": {
        "id": "view-in-github",
        "colab_type": "text"
      },
      "source": [
        "<a href=\"https://colab.research.google.com/github/sayarghoshroy/place2crash/blob/main/preproc_funcs.ipynb\" target=\"_parent\"><img src=\"https://colab.research.google.com/assets/colab-badge.svg\" alt=\"Open In Colab\"/></a>"
      ]
    },
    {
      "cell_type": "code",
      "execution_count": 1,
      "metadata": {
        "id": "5DGmXWY9lLsS"
      },
      "outputs": [],
      "source": [
        "import numpy as np\n",
        "import pandas as pd\n",
        "from scipy import stats\n",
        "\n",
        "import nltk\n",
        "from nltk.tokenize import word_tokenize\n",
        "# nltk.download('punkt')\n",
        "\n",
        "import json"
      ]
    },
    {
      "cell_type": "code",
      "source": [
        "path = 'drive/My Drive/place2crash_data/'\n",
        "file_name = 'data.csv'"
      ],
      "metadata": {
        "id": "9CUAfqV_lPB6"
      },
      "execution_count": 2,
      "outputs": []
    },
    {
      "cell_type": "code",
      "source": [
        "raw_data_df = pd.read_csv(path + file_name)"
      ],
      "metadata": {
        "id": "pMrqCgWLlPhv"
      },
      "execution_count": 3,
      "outputs": []
    },
    {
      "cell_type": "code",
      "source": [
        "view_raw_features = False\n",
        "\n",
        "if view_raw_features:\n",
        "  print('Raw features:')\n",
        "  for head in raw_data_df.columns:\n",
        "    print('-', head)\n",
        "\n",
        "# Dropping certain metadata fields\n",
        "# that would not contribute to price estimation\n",
        "\n",
        "raw_data_df = raw_data_df.drop(['host_id', 'host_name', 'last_review', 'calculated_host_listings_count'], axis = 1)\n",
        "raw_data_df = raw_data_df.sort_values(by = 'id')"
      ],
      "metadata": {
        "id": "-7bxppJWlSpi"
      },
      "execution_count": 4,
      "outputs": []
    },
    {
      "cell_type": "code",
      "source": [
        "map_col_to_head = []\n",
        "map_head_to_col = {}\n",
        "\n",
        "for index, head in enumerate(raw_data_df.columns):\n",
        "  map_col_to_head.append(head)\n",
        "  map_head_to_col[head] = index\n",
        "\n",
        "raw_data = raw_data_df.values"
      ],
      "metadata": {
        "id": "rGRg0nqXler2"
      },
      "execution_count": 5,
      "outputs": []
    },
    {
      "cell_type": "code",
      "source": [
        "rows, cols = np.shape(raw_data)\n",
        "print('# Features = ' + str(cols))\n",
        "print('# Datapoints = ' + str(rows))"
      ],
      "metadata": {
        "colab": {
          "base_uri": "https://localhost:8080/"
        },
        "id": "daspslWznHS2",
        "outputId": "d803fd6b-358c-465d-f4dc-f1c0b9f7f995"
      },
      "execution_count": 6,
      "outputs": [
        {
          "output_type": "stream",
          "name": "stdout",
          "text": [
            "# Features = 12\n",
            "# Datapoints = 48895\n"
          ]
        }
      ]
    },
    {
      "cell_type": "code",
      "source": [
        "def numerical_EDA(attributes):\n",
        "  attributes = attributes.astype('double')\n",
        "  nan_count = np.count_nonzero(np.isnan(attributes))\n",
        "  \n",
        "  attributes = attributes[~ np.isnan(attributes)]\n",
        "\n",
        "  items = {'nan_count': nan_count,\n",
        "           'mean': np.mean(attributes),\n",
        "           'var': np.var(attributes, ddof = 1),\n",
        "           'sd': np.std(attributes, ddof = 1),\n",
        "           'min': np.amin(attributes),\n",
        "           'q1': np.quantile(attributes, 0.25),\n",
        "           'median': np.median(attributes),\n",
        "           'q3': np.quantile(attributes, 0.75),\n",
        "           'max': np.amax(attributes),\n",
        "           'iqr': np.quantile(attributes, 0.75) - np.quantile(attributes, 0.25),\n",
        "           'mode': stats.mode(attributes).mode[0]}\n",
        "\n",
        "  return items\n",
        "\n",
        "def categorical_EDA(attributes):\n",
        "  unique_vals, frequency = np.unique(attributes, return_counts = True)\n",
        "  items = {'unique': np.unique(attributes).shape[0],\n",
        "           'unique_vals': np.ndarray.tolist(unique_vals),\n",
        "           'unique_freqs': np.ndarray.tolist(frequency)}\n",
        "  return items\n",
        "\n",
        "def text_EDA(attributes):\n",
        "  texts = np.ndarray.tolist(attributes)\n",
        "  lens = np.asarray([len(str(text)) for text in texts])\n",
        "  token_lens = np.asarray([len(word_tokenize(str(text))) for text in texts])\n",
        "\n",
        "  items_char = numerical_EDA(lens)\n",
        "  items_tokens = numerical_EDA(token_lens)\n",
        "  return {'char': items_char, 'token': items_tokens}"
      ],
      "metadata": {
        "id": "xtrnqXyDo72P"
      },
      "execution_count": 7,
      "outputs": []
    },
    {
      "cell_type": "code",
      "source": [
        "view_features = True\n",
        "\n",
        "if view_features:\n",
        "  print('Features:')\n",
        "  for index, head in enumerate(map_col_to_head):\n",
        "    print(str(index) + ': ' + head)"
      ],
      "metadata": {
        "colab": {
          "base_uri": "https://localhost:8080/"
        },
        "id": "jVACk8cw1jLo",
        "outputId": "22029653-102c-4af2-e740-3a321688e21e"
      },
      "execution_count": 8,
      "outputs": [
        {
          "output_type": "stream",
          "name": "stdout",
          "text": [
            "Features:\n",
            "0: id\n",
            "1: name\n",
            "2: neighbourhood_group\n",
            "3: neighbourhood\n",
            "4: latitude\n",
            "5: longitude\n",
            "6: room_type\n",
            "7: price\n",
            "8: minimum_nights\n",
            "9: number_of_reviews\n",
            "10: reviews_per_month\n",
            "11: availability_365\n"
          ]
        }
      ]
    },
    {
      "cell_type": "code",
      "source": [
        "# Usage examples\n",
        "\n",
        "# numerical_EDA(raw_data[:, map_head_to_col['reviews_per_month']])\n",
        "# numerical_EDA(raw_data[:, map_head_to_col['price']])\n",
        "# text_EDA(raw_data[:, map_head_to_col['name']])\n",
        "# categorical_EDA(raw_data[:, map_head_to_col['neighbourhood']])\n",
        "categorical_EDA(raw_data[:, map_head_to_col['neighbourhood_group']])"
      ],
      "metadata": {
        "id": "QO4KLkAx1u-X",
        "colab": {
          "base_uri": "https://localhost:8080/"
        },
        "outputId": "4b8c2405-8537-491a-9f7d-6d6cb8493f15"
      },
      "execution_count": 9,
      "outputs": [
        {
          "output_type": "execute_result",
          "data": {
            "text/plain": [
              "{'unique': 5,\n",
              " 'unique_vals': ['Bronx', 'Brooklyn', 'Manhattan', 'Queens', 'Staten Island'],\n",
              " 'unique_freqs': [1091, 20104, 21661, 5666, 373]}"
            ]
          },
          "metadata": {},
          "execution_count": 9
        }
      ]
    },
    {
      "cell_type": "code",
      "source": [
        "# Creating a held-out test set\n",
        "\n",
        "np.random.seed(2022)\n",
        "np.random.shuffle(raw_data)\n",
        "\n",
        "train_len = int(rows * 0.9)\n",
        "test_len = rows - train_len"
      ],
      "metadata": {
        "id": "-7vr-agspANy"
      },
      "execution_count": 10,
      "outputs": []
    },
    {
      "cell_type": "code",
      "source": [
        "train_data = raw_data[0: train_len]\n",
        "test_data = raw_data[train_len: ]"
      ],
      "metadata": {
        "id": "4f3yhe12BFFs"
      },
      "execution_count": 11,
      "outputs": []
    },
    {
      "cell_type": "code",
      "source": [
        "# Saving Processed Items\n",
        "\n",
        "def to_lists(data):\n",
        "  points = []\n",
        "\n",
        "  for row_id in range(data.shape[0]):\n",
        "    points.append(np.ndarray.tolist(data[row_id, :]))\n",
        "\n",
        "  return points\n",
        "\n",
        "with open(path + 'train_data.json', 'w+') as f:\n",
        "  json.dump(to_lists(train_data), f)\n",
        "\n",
        "with open(path + 'test_data.json', 'w+') as f:\n",
        "  json.dump(to_lists(test_data), f)\n",
        "\n",
        "with open(path + 'head_to_col_id.json', 'w+') as f:\n",
        "  json.dump(map_head_to_col, f)"
      ],
      "metadata": {
        "id": "Y1ZnSvdNBvGb"
      },
      "execution_count": 12,
      "outputs": []
    },
    {
      "cell_type": "code",
      "source": [
        "# Loading and Usage\n",
        "\n",
        "with open(path + 'train_data.json', 'r+') as f:\n",
        "  train = np.asarray(json.load(f))\n",
        "\n",
        "with open(path + 'head_to_col_id.json', 'r+') as f:\n",
        "  head_to_col = json.load(f)\n",
        "\n",
        "# Extracting the 'name' feature for further processing\n",
        "name_col = train[:, head_to_col['name']]"
      ],
      "metadata": {
        "id": "di7ObhmePBql"
      },
      "execution_count": 13,
      "outputs": []
    },
    {
      "cell_type": "code",
      "source": [
        "# Done"
      ],
      "metadata": {
        "id": "iQGMZesHC5Jn"
      },
      "execution_count": 14,
      "outputs": []
    }
  ]
}